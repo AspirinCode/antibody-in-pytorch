{
 "cells": [
  {
   "cell_type": "code",
   "execution_count": 15,
   "metadata": {},
   "outputs": [
    {
     "data": {
      "text/plain": [
       "'/home/ec2-user/SageMaker/antibody-in-pytorch/AIPT/Models/Beshnova2020'"
      ]
     },
     "execution_count": 15,
     "metadata": {},
     "output_type": "execute_result"
    }
   ],
   "source": [
    "import json\n",
    "import os\n",
    "import sys\n",
    "import warnings\n",
    "import pickle as pkl\n",
    "import numpy as np\n",
    "import torch\n",
    "import torch.nn as nn\n",
    "import torch.optim as optim\n",
    "import matplotlib.pyplot as plt\n",
    "from sklearn.metrics import roc_auc_score, roc_curve\n",
    "warnings.filterwarnings(\"ignore\")\n",
    "%pwd"
   ]
  },
  {
   "cell_type": "code",
   "execution_count": 16,
   "metadata": {},
   "outputs": [
    {
     "name": "stdout",
     "output_type": "stream",
     "text": [
      "entry_point.py\t__main__.py\t__pycache__\tBenchmarks\t.ipynb_checkpoints\t__init__.py\tUtils\tModels\t.gitignore\n"
     ]
    }
   ],
   "source": [
    "'''\n",
    "set up paths\n",
    "'''\n",
    "\n",
    "aipt_dir = '/home/ec2-user/SageMaker/antibody-in-pytorch/AIPT'\n",
    "print(\"\\t\".join(os.listdir(aipt_dir)))"
   ]
  },
  {
   "cell_type": "markdown",
   "metadata": {},
   "source": [
    "## Data Processing"
   ]
  },
  {
   "cell_type": "code",
   "execution_count": 17,
   "metadata": {},
   "outputs": [],
   "source": [
    "# todo: pca"
   ]
  },
  {
   "cell_type": "code",
   "execution_count": 18,
   "metadata": {},
   "outputs": [],
   "source": [
    "from AIPT.Benchmarks.OAS_dataset import OAS_data_loader as oas"
   ]
  },
  {
   "cell_type": "code",
   "execution_count": 19,
   "metadata": {},
   "outputs": [
    {
     "name": "stdout",
     "output_type": "stream",
     "text": [
      "Training data                                            file_name Longitudinal  Chain  \\\n",
      "0  Ellebedy_2016_Day-0_memory-B-cell_IGHA_memory-...        Day-0  Heavy   \n",
      "1  Ellebedy_2016_Day-0_memory-B-cell_IGHA_memory-...        Day-0  Heavy   \n",
      "2  Ellebedy_2016_Day-0_memory-B-cell_IGHG_memory-...        Day-0  Heavy   \n",
      "\n",
      "                    Author Isotype    Age  Size_igblastn Disease  \\\n",
      "0  Ellebedy et al., (2016)    IGHA  18-49          84333    None   \n",
      "1  Ellebedy et al., (2016)    IGHA  18-49          59091    None   \n",
      "2  Ellebedy et al., (2016)    IGHG  18-49          52891    None   \n",
      "\n",
      "                                      Link BSource           BType   Size  \\\n",
      "0  https://www.nature.com/articles/ni.3533    PBMC  Memory-B-Cells  61336   \n",
      "1  https://www.nature.com/articles/ni.3533    PBMC  Memory-B-Cells  43137   \n",
      "2  https://www.nature.com/articles/ni.3533    PBMC  Memory-B-Cells  41221   \n",
      "\n",
      "  Species Vaccine  Subject  valid_entry_num  \n",
      "0   human    None  Donor-6             2019  \n",
      "1   human    None  Donor-5             2123  \n",
      "2   human    None  Donor-4             1028  \n",
      "Testing data                                            file_name Longitudinal  Chain  \\\n",
      "0  Ellebedy_2016_Day-0_memory-B-cell_IGHA_memory-...        Day-0  Heavy   \n",
      "\n",
      "                    Author Isotype    Age  Size_igblastn Disease  \\\n",
      "0  Ellebedy et al., (2016)    IGHA  18-49          50519    None   \n",
      "\n",
      "                                      Link BSource           BType   Size  \\\n",
      "0  https://www.nature.com/articles/ni.3533    PBMC  Memory-B-Cells  34975   \n",
      "\n",
      "  Species Vaccine  Subject  valid_entry_num  \n",
      "0   human    None  Donor-4              839  \n"
     ]
    }
   ],
   "source": [
    "seq_dir = os.path.join(aipt_dir, 'Benchmarks/OAS_dataset/data/seq_db')\n",
    "\n",
    "index_path = 'OAS_index.txt'\n",
    "input_seq_type = 'CDR3'\n",
    "output_field = 'BType'\n",
    "cell_types = ['Naive-B-Cells', 'Memory-B-Cells'] # todo: this is confusing - doesn't refer to \"Species\"\n",
    "\n",
    "\n",
    "train_loader, train_eval_loader, test_eval_loader, seq_len = oas.OAS_data_loader(index_path, output_field, input_seq_type, cell_types, seq_dir=seq_dir,\n",
    "                                                                                 gapped=True, \n",
    "                                                                                 pad=False, \n",
    "                                                                                 batch_size=16, \n",
    "                                                                                 model_name='Beshnova2020') "
   ]
  },
  {
   "cell_type": "code",
   "execution_count": 20,
   "metadata": {},
   "outputs": [
    {
     "name": "stdout",
     "output_type": "stream",
     "text": [
      "tensor([0, 0, 0, 0, 0, 0, 0, 0, 0, 0, 0, 0, 0, 0, 0, 0]) 16 \n",
      "\n",
      "\n",
      "tensor([0, 0, 0, 0, 0, 0, 0, 0, 0, 0, 0, 0, 0, 0, 0, 0]) 16 \n",
      "\n",
      "\n",
      "tensor([0, 0, 0, 0, 0, 0, 0, 0, 0, 0, 0, 0, 0, 0, 0, 0]) 16 \n",
      "\n",
      "\n",
      "tensor([0, 0, 0, 0, 0, 0, 0, 0, 0, 0, 0, 0, 0, 0, 0, 0]) 16 \n",
      "\n",
      "\n",
      "tensor([0, 0, 0, 0, 0, 0, 0, 0, 0, 0, 0, 0, 0, 0, 0, 0]) 16 \n",
      "\n",
      "\n",
      "tensor([0, 0, 0, 0, 0, 0, 0, 0, 0, 0, 0, 0, 0, 0, 0, 0]) 16 \n",
      "\n",
      "\n"
     ]
    }
   ],
   "source": [
    "count = 0\n",
    "for x,y in train_loader:\n",
    "    print(y, len(y), '\\n\\n')\n",
    "    count+=1\n",
    "    if count > 5:\n",
    "        break"
   ]
  },
  {
   "cell_type": "code",
   "execution_count": 21,
   "metadata": {},
   "outputs": [],
   "source": [
    "import pandas as pd\n",
    "index_df = pd.read_csv(index_path, sep=\"\\t\")\n",
    "\n",
    "file_names = index_df['file_name']"
   ]
  },
  {
   "cell_type": "code",
   "execution_count": 22,
   "metadata": {},
   "outputs": [
    {
     "data": {
      "text/html": [
       "<div>\n",
       "<style scoped>\n",
       "    .dataframe tbody tr th:only-of-type {\n",
       "        vertical-align: middle;\n",
       "    }\n",
       "\n",
       "    .dataframe tbody tr th {\n",
       "        vertical-align: top;\n",
       "    }\n",
       "\n",
       "    .dataframe thead th {\n",
       "        text-align: right;\n",
       "    }\n",
       "</style>\n",
       "<table border=\"1\" class=\"dataframe\">\n",
       "  <thead>\n",
       "    <tr style=\"text-align: right;\">\n",
       "      <th></th>\n",
       "      <th>CDR3_aa</th>\n",
       "      <th>BType</th>\n",
       "    </tr>\n",
       "  </thead>\n",
       "  <tbody>\n",
       "    <tr>\n",
       "      <th>13</th>\n",
       "      <td>ARVEGWVLFDK</td>\n",
       "      <td>Memory-B-Cells</td>\n",
       "    </tr>\n",
       "    <tr>\n",
       "      <th>28</th>\n",
       "      <td>TREWGRRTFDV</td>\n",
       "      <td>Memory-B-Cells</td>\n",
       "    </tr>\n",
       "    <tr>\n",
       "      <th>29</th>\n",
       "      <td>AHKSVYREVDY</td>\n",
       "      <td>Memory-B-Cells</td>\n",
       "    </tr>\n",
       "    <tr>\n",
       "      <th>35</th>\n",
       "      <td>AHRSTNREVDY</td>\n",
       "      <td>Memory-B-Cells</td>\n",
       "    </tr>\n",
       "    <tr>\n",
       "      <th>39</th>\n",
       "      <td>AHRSTNREVDY</td>\n",
       "      <td>Memory-B-Cells</td>\n",
       "    </tr>\n",
       "    <tr>\n",
       "      <th>...</th>\n",
       "      <td>...</td>\n",
       "      <td>...</td>\n",
       "    </tr>\n",
       "    <tr>\n",
       "      <th>1503</th>\n",
       "      <td>ARDRFDYGFDY</td>\n",
       "      <td>Naive-B-Cells</td>\n",
       "    </tr>\n",
       "    <tr>\n",
       "      <th>1505</th>\n",
       "      <td>AREANTLGMDV</td>\n",
       "      <td>Naive-B-Cells</td>\n",
       "    </tr>\n",
       "    <tr>\n",
       "      <th>1516</th>\n",
       "      <td>AGLRTTDAFDI</td>\n",
       "      <td>Naive-B-Cells</td>\n",
       "    </tr>\n",
       "    <tr>\n",
       "      <th>1520</th>\n",
       "      <td>ARQEDTAMVDY</td>\n",
       "      <td>Naive-B-Cells</td>\n",
       "    </tr>\n",
       "    <tr>\n",
       "      <th>1546</th>\n",
       "      <td>AKGHSRDAFDI</td>\n",
       "      <td>Naive-B-Cells</td>\n",
       "    </tr>\n",
       "  </tbody>\n",
       "</table>\n",
       "<p>2294 rows × 2 columns</p>\n",
       "</div>"
      ],
      "text/plain": [
       "          CDR3_aa           BType\n",
       "13    ARVEGWVLFDK  Memory-B-Cells\n",
       "28    TREWGRRTFDV  Memory-B-Cells\n",
       "29    AHKSVYREVDY  Memory-B-Cells\n",
       "35    AHRSTNREVDY  Memory-B-Cells\n",
       "39    AHRSTNREVDY  Memory-B-Cells\n",
       "...           ...             ...\n",
       "1503  ARDRFDYGFDY   Naive-B-Cells\n",
       "1505  AREANTLGMDV   Naive-B-Cells\n",
       "1516  AGLRTTDAFDI   Naive-B-Cells\n",
       "1520  ARQEDTAMVDY   Naive-B-Cells\n",
       "1546  AKGHSRDAFDI   Naive-B-Cells\n",
       "\n",
       "[2294 rows x 2 columns]"
      ]
     },
     "execution_count": 22,
     "metadata": {},
     "output_type": "execute_result"
    }
   ],
   "source": [
    "\n",
    "data_dfs = []\n",
    "\n",
    "for index, row in index_df.iterrows():\n",
    "    file_name = row['file_name']\n",
    "    df = pd.read_csv(os.path.join(seq_dir, f'{file_name}.txt'), sep='\\t')\n",
    "    length_df = df.apply(lambda row: len(row['CDR3_aa']), axis=1)\n",
    "    data_df = df[length_df == 11]\n",
    "    data_df['BType'] = row['BType']\n",
    "    data_df = data_df[['CDR3_aa', 'BType']]\n",
    "    data_dfs.append(data_df)\n",
    "    \n",
    "data = pd.concat(data_dfs)\n",
    "data"
   ]
  },
  {
   "cell_type": "code",
   "execution_count": 23,
   "metadata": {},
   "outputs": [
    {
     "name": "stdout",
     "output_type": "stream",
     "text": [
      "cell_type_to_ix: {'Naive-B-Cells': 0, 'Memory-B-Cells': 1}\n"
     ]
    },
    {
     "data": {
      "text/html": [
       "<div>\n",
       "<style scoped>\n",
       "    .dataframe tbody tr th:only-of-type {\n",
       "        vertical-align: middle;\n",
       "    }\n",
       "\n",
       "    .dataframe tbody tr th {\n",
       "        vertical-align: top;\n",
       "    }\n",
       "\n",
       "    .dataframe thead th {\n",
       "        text-align: right;\n",
       "    }\n",
       "</style>\n",
       "<table border=\"1\" class=\"dataframe\">\n",
       "  <thead>\n",
       "    <tr style=\"text-align: right;\">\n",
       "      <th></th>\n",
       "      <th>CDR3_aa</th>\n",
       "      <th>BType</th>\n",
       "      <th>label</th>\n",
       "    </tr>\n",
       "  </thead>\n",
       "  <tbody>\n",
       "    <tr>\n",
       "      <th>13</th>\n",
       "      <td>ARVEGWVLFDK</td>\n",
       "      <td>Memory-B-Cells</td>\n",
       "      <td>1</td>\n",
       "    </tr>\n",
       "    <tr>\n",
       "      <th>28</th>\n",
       "      <td>TREWGRRTFDV</td>\n",
       "      <td>Memory-B-Cells</td>\n",
       "      <td>1</td>\n",
       "    </tr>\n",
       "    <tr>\n",
       "      <th>29</th>\n",
       "      <td>AHKSVYREVDY</td>\n",
       "      <td>Memory-B-Cells</td>\n",
       "      <td>1</td>\n",
       "    </tr>\n",
       "    <tr>\n",
       "      <th>35</th>\n",
       "      <td>AHRSTNREVDY</td>\n",
       "      <td>Memory-B-Cells</td>\n",
       "      <td>1</td>\n",
       "    </tr>\n",
       "    <tr>\n",
       "      <th>39</th>\n",
       "      <td>AHRSTNREVDY</td>\n",
       "      <td>Memory-B-Cells</td>\n",
       "      <td>1</td>\n",
       "    </tr>\n",
       "    <tr>\n",
       "      <th>...</th>\n",
       "      <td>...</td>\n",
       "      <td>...</td>\n",
       "      <td>...</td>\n",
       "    </tr>\n",
       "    <tr>\n",
       "      <th>1503</th>\n",
       "      <td>ARDRFDYGFDY</td>\n",
       "      <td>Naive-B-Cells</td>\n",
       "      <td>0</td>\n",
       "    </tr>\n",
       "    <tr>\n",
       "      <th>1505</th>\n",
       "      <td>AREANTLGMDV</td>\n",
       "      <td>Naive-B-Cells</td>\n",
       "      <td>0</td>\n",
       "    </tr>\n",
       "    <tr>\n",
       "      <th>1516</th>\n",
       "      <td>AGLRTTDAFDI</td>\n",
       "      <td>Naive-B-Cells</td>\n",
       "      <td>0</td>\n",
       "    </tr>\n",
       "    <tr>\n",
       "      <th>1520</th>\n",
       "      <td>ARQEDTAMVDY</td>\n",
       "      <td>Naive-B-Cells</td>\n",
       "      <td>0</td>\n",
       "    </tr>\n",
       "    <tr>\n",
       "      <th>1546</th>\n",
       "      <td>AKGHSRDAFDI</td>\n",
       "      <td>Naive-B-Cells</td>\n",
       "      <td>0</td>\n",
       "    </tr>\n",
       "  </tbody>\n",
       "</table>\n",
       "<p>2294 rows × 3 columns</p>\n",
       "</div>"
      ],
      "text/plain": [
       "          CDR3_aa           BType  label\n",
       "13    ARVEGWVLFDK  Memory-B-Cells      1\n",
       "28    TREWGRRTFDV  Memory-B-Cells      1\n",
       "29    AHKSVYREVDY  Memory-B-Cells      1\n",
       "35    AHRSTNREVDY  Memory-B-Cells      1\n",
       "39    AHRSTNREVDY  Memory-B-Cells      1\n",
       "...           ...             ...    ...\n",
       "1503  ARDRFDYGFDY   Naive-B-Cells      0\n",
       "1505  AREANTLGMDV   Naive-B-Cells      0\n",
       "1516  AGLRTTDAFDI   Naive-B-Cells      0\n",
       "1520  ARQEDTAMVDY   Naive-B-Cells      0\n",
       "1546  AKGHSRDAFDI   Naive-B-Cells      0\n",
       "\n",
       "[2294 rows x 3 columns]"
      ]
     },
     "execution_count": 23,
     "metadata": {},
     "output_type": "execute_result"
    }
   ],
   "source": [
    "cell_type_to_ix = {cell_type: ix for ix, cell_type in enumerate(cell_types)}\n",
    "print('cell_type_to_ix:', cell_type_to_ix)\n",
    "\n",
    "data['label'] = data.apply(lambda row: cell_type_to_ix[row['BType']], axis=1)\n",
    "data"
   ]
  },
  {
   "cell_type": "code",
   "execution_count": 24,
   "metadata": {},
   "outputs": [],
   "source": [
    "from AIPT.Benchmarks.OAS_dataset import OAS_data_loader\n",
    "\n",
    "train_data = data[['CDR3_aa', 'label']]\n",
    "seq_encodings = OAS_data_loader.encode_index(data=train_data['CDR3_aa'])\n",
    "btypes = train_data['label'].values\n",
    "train_loader = torch.utils.data.DataLoader(list(zip(seq_encodings, btypes)))"
   ]
  },
  {
   "cell_type": "code",
   "execution_count": 25,
   "metadata": {},
   "outputs": [
    {
     "name": "stdout",
     "output_type": "stream",
     "text": [
      "tensor([[ 0, 14, 17,  3,  5, 18, 17,  9,  4,  2,  8]]) tensor([1])\n"
     ]
    }
   ],
   "source": [
    "for row in train_loader:\n",
    "    x,y = row\n",
    "    print(x,y)\n",
    "    break"
   ]
  },
  {
   "cell_type": "markdown",
   "metadata": {},
   "source": [
    "## Load Model"
   ]
  },
  {
   "cell_type": "code",
   "execution_count": 26,
   "metadata": {},
   "outputs": [],
   "source": [
    "from AIPT.Models.Beshnova2020.CNN import CNN"
   ]
  },
  {
   "cell_type": "code",
   "execution_count": 28,
   "metadata": {},
   "outputs": [],
   "source": [
    "para_dict = {\n",
    "    'seq_len': 11,\n",
    "    'embedding_dim': 15 # paper uses dim 15 PCA features\n",
    "}\n",
    "\n",
    "embedding_fn = nn.Embedding(21, para_dict['embedding_dim'])\n",
    "\n",
    "model = CNN(para_dict, embedding_fn)"
   ]
  },
  {
   "cell_type": "markdown",
   "metadata": {},
   "source": [
    "## Train"
   ]
  },
  {
   "cell_type": "code",
   "execution_count": null,
   "metadata": {},
   "outputs": [
    {
     "name": "stdout",
     "output_type": "stream",
     "text": [
      "<AIPT.Utils.model.CrossEntropy object at 0x7f8bf15b0128>\n",
      "Epoch: 40: Loss=126.624\n",
      "Test: \n",
      "[[ 290   12]\n",
      " [  13 1979]]\n",
      "Accuracy = 0.989 ,MCC = 0.952\n"
     ]
    }
   ],
   "source": [
    "model.fit(train_loader)"
   ]
  },
  {
   "cell_type": "code",
   "execution_count": null,
   "metadata": {},
   "outputs": [],
   "source": [
    "output = model.predict(train_loader)"
   ]
  },
  {
   "cell_type": "markdown",
   "metadata": {},
   "source": [
    "## Test"
   ]
  },
  {
   "cell_type": "code",
   "execution_count": null,
   "metadata": {},
   "outputs": [],
   "source": [
    "output = model.predict(test_loader)\n",
    "model.evaluate(output, test_data['label'])"
   ]
  },
  {
   "cell_type": "code",
   "execution_count": null,
   "metadata": {},
   "outputs": [],
   "source": []
  }
 ],
 "metadata": {
  "kernelspec": {
   "display_name": "conda_pytorch_p36",
   "language": "python",
   "name": "conda_pytorch_p36"
  },
  "language_info": {
   "codemirror_mode": {
    "name": "ipython",
    "version": 3
   },
   "file_extension": ".py",
   "mimetype": "text/x-python",
   "name": "python",
   "nbconvert_exporter": "python",
   "pygments_lexer": "ipython3",
   "version": "3.6.10"
  }
 },
 "nbformat": 4,
 "nbformat_minor": 4
}
