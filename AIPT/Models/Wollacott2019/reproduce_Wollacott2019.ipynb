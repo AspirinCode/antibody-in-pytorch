{
 "cells": [
  {
   "cell_type": "code",
   "execution_count": 1,
   "metadata": {
    "execution": {
     "iopub.execute_input": "2020-03-11T00:10:30.236Z",
     "iopub.status.busy": "2020-03-11T00:10:30.229Z",
     "iopub.status.idle": "2020-03-11T00:10:31.526Z",
     "shell.execute_reply": "2020-03-11T00:10:31.529Z"
    },
    "pycharm": {
     "is_executing": false
    }
   },
   "outputs": [
    {
     "name": "stdout",
     "output_type": "stream",
     "text": [
      "/home/ec2-user/SageMaker/antibody-in-pytorch/AIPT/Models/Wollacott2019\n"
     ]
    }
   ],
   "source": [
    "import json\n",
    "import os\n",
    "import sys\n",
    "import warnings\n",
    "import pickle as pkl\n",
    "import numpy as np\n",
    "import torch\n",
    "import torch.nn as nn\n",
    "import torch.optim as optim\n",
    "import matplotlib.pyplot as plt\n",
    "from sklearn.metrics import roc_auc_score, roc_curve\n",
    "warnings.filterwarnings(\"ignore\")\n",
    "\n",
    "# todo: take this out when merging with master\n",
    "%cd \"/home/ec2-user/SageMaker/antibody-in-pytorch/AIPT/Models/Wollacott2019\""
   ]
  },
  {
   "cell_type": "code",
   "execution_count": 2,
   "metadata": {
    "execution": {
     "iopub.execute_input": "2020-03-11T00:10:32.280Z",
     "iopub.status.busy": "2020-03-11T00:10:32.276Z",
     "iopub.status.idle": "2020-03-11T00:10:32.640Z",
     "shell.execute_reply": "2020-03-11T00:10:32.646Z"
    },
    "pycharm": {
     "is_executing": false
    }
   },
   "outputs": [],
   "source": [
    "from AIPT.Benchmarks.OAS_dataset import OAS_data_loader\n",
    "from AIPT.Models.Wollacott2019 import Bi_LSTM\n",
    "from AIPT.Utils.model import Model\n",
    "from AIPT.Utils import loader"
   ]
  },
  {
   "cell_type": "code",
   "execution_count": 3,
   "metadata": {
    "execution": {
     "iopub.execute_input": "2020-03-11T00:10:33.705Z",
     "iopub.status.busy": "2020-03-11T00:10:33.701Z",
     "iopub.status.idle": "2020-03-11T00:10:33.712Z",
     "shell.execute_reply": "2020-03-11T00:10:33.716Z"
    },
    "pycharm": {
     "is_executing": false
    }
   },
   "outputs": [],
   "source": [
    "def collate_fn(batch):\n",
    "    \"\"\"\n",
    "    Retrieve the labels for training \n",
    "    \"\"\"\n",
    "    return batch, [x for seq in batch for x in seq] "
   ]
  },
  {
   "cell_type": "markdown",
   "metadata": {},
   "source": [
    "# Parameters"
   ]
  },
  {
   "cell_type": "code",
   "execution_count": 4,
   "metadata": {
    "execution": {
     "iopub.execute_input": "2020-03-11T00:10:37.219Z",
     "iopub.status.busy": "2020-03-11T00:10:37.214Z",
     "iopub.status.idle": "2020-03-11T00:10:37.226Z",
     "shell.execute_reply": "2020-03-11T00:10:37.230Z"
    },
    "pycharm": {
     "is_executing": false
    }
   },
   "outputs": [],
   "source": [
    "para_dict = {'epoch': 4,\n",
    "             'step_size': 10,\n",
    "             'batch_size': 8192,\n",
    "             'learning_rate': 0.01,\n",
    "             'gapped': True,\n",
    "             'embedding_dim': 64,\n",
    "             'hidden_dim': 64,\n",
    "             'fixed_len': False}\n",
    "# datapath = '../../Benchmarks/OAS_dataset/data/'\n",
    "datapath = 'dataloaders'"
   ]
  },
  {
   "cell_type": "markdown",
   "metadata": {},
   "source": [
    "# Data Loader"
   ]
  },
  {
   "cell_type": "code",
   "execution_count": 5,
   "metadata": {
    "collapsed": false,
    "execution": {
     "iopub.execute_input": "2020-03-11T00:10:41.396Z",
     "iopub.status.busy": "2020-03-11T00:10:41.392Z",
     "iopub.status.idle": "2020-03-11T00:10:42.419Z",
     "shell.execute_reply": "2020-03-11T00:10:42.424Z"
    },
    "jupyter": {
     "outputs_hidden": false,
     "source_hidden": false
    },
    "nteract": {
     "transient": {
      "deleting": false
     }
    },
    "pycharm": {
     "is_executing": false
    }
   },
   "outputs": [],
   "source": [
    "# Training data\n",
    "import random\n",
    "\n",
    "data = pkl.load(open(os.path.join(datapath,'Human_train_seq_full_length.csv.gz'), 'rb'))\n",
    "train_x = OAS_data_loader.encode_index(data=data['seq'].values, gapped=True)\n",
    "train_x = random.sample(train_x, 100)\n",
    "train_loader = torch.utils.data.DataLoader(train_x, collate_fn=OAS_data_loader.collate_fn)"
   ]
  },
  {
   "cell_type": "code",
   "execution_count": 8,
   "metadata": {
    "collapsed": false,
    "jupyter": {
     "outputs_hidden": false
    },
    "pycharm": {
     "is_executing": false,
     "name": "#%%\n"
    }
   },
   "outputs": [
    {
     "name": "stdout",
     "output_type": "stream",
     "text": [
      "                                                     seq\n",
      "0      --------------PGGSLRLSCAASAFTF----SAYGMHWVRQTP...\n",
      "1      ---------------GGSLRLSCAASGFSF----SSYAMSWVRQAP...\n",
      "2      ---------------SETLSLTCSVSGGSIS--SSAYHWSWFRQHP...\n",
      "3      --------------PGGSLRLSCAASGFTF----SSFTMNWVRQAP...\n",
      "4      ---------------SETLSLTCAVYGWSF----NDYYWNWIRQPP...\n",
      "...                                                  ...\n",
      "24995  ---------------GGSLRLSCAASGFTF----SNYWAHWVRQAP...\n",
      "24996  ---------------GGSLRLSCAASGFIF----SGFAMAWVRQTP...\n",
      "24997  ---------------SETLSLTCTVSGGSIS--SSSYYWGWIRQPP...\n",
      "24998  --------------PGGSLRLSCVASGFPF----PTYAMMWVRQAP...\n",
      "24999  ---------------GESLKISCKGSGYSF----TSYWIGWVRQMP...\n",
      "\n",
      "[25000 rows x 1 columns]\n",
      "features\n",
      "[array([20, 20, 20, 20, 20, 20, 20, 20, 20, 20, 20, 20, 20, 20, 20, 15,  3,\n",
      "       16,  9, 15,  9, 16,  1,  0, 17, 19,  5,  5, 15,  4, 20, 20, 20, 20,\n",
      "       15,  5, 19, 19, 18, 15, 18,  7, 14, 13, 12, 12,  5,  8,  5,  9,  3,\n",
      "       18,  7,  5,  3,  7, 11,  6, 15, 20, 20, 20,  5, 15, 16, 11, 19, 11,\n",
      "       12, 15,  9,  8, 20, 15, 14, 17, 16,  7, 15, 17,  2, 16, 15,  8, 11,\n",
      "       13,  4, 15,  9,  8,  9, 15, 15, 17, 16,  0,  0,  2, 16,  0, 17, 19,\n",
      "       19,  1,  0, 14, 16,  7, 16,  7,  4,  5,  9, 17, 11,  2, 19, 18,  5,\n",
      "       13,  5, 16,  9, 17, 16, 17, 15, 15, 20])]\n",
      "label\n",
      "[20, 20, 20, 20, 20, 20, 20, 20, 20, 20, 20, 20, 20, 20, 20, 15, 3, 16, 9, 15, 9, 16, 1, 0, 17, 19, 5, 5, 15, 4, 20, 20, 20, 20, 15, 5, 19, 19, 18, 15, 18, 7, 14, 13, 12, 12, 5, 8, 5, 9, 3, 18, 7, 5, 3, 7, 11, 6, 15, 20, 20, 20, 5, 15, 16, 11, 19, 11, 12, 15, 9, 8, 20, 15, 14, 17, 16, 7, 15, 17, 2, 16, 15, 8, 11, 13, 4, 15, 9, 8, 9, 15, 15, 17, 16, 0, 0, 2, 16, 0, 17, 19, 19, 1, 0, 14, 16, 7, 16, 7, 4, 5, 9, 17, 11, 2, 19, 18, 5, 13, 5, 16, 9, 17, 16, 17, 15, 15, 20]\n"
     ]
    }
   ],
   "source": [
    "print(data)\n",
    "for features, label in train_loader:\n",
    "    print('features')\n",
    "    print(features)\n",
    "    print('label')\n",
    "    print(label)\n",
    "    break"
   ]
  },
  {
   "cell_type": "code",
   "execution_count": 10,
   "metadata": {
    "execution": {
     "iopub.execute_input": "2020-03-11T00:53:01.417Z",
     "iopub.status.busy": "2020-03-11T00:53:01.414Z",
     "iopub.status.idle": "2020-03-11T00:53:01.597Z",
     "shell.execute_reply": "2020-03-11T00:53:01.599Z"
    },
    "pycharm": {
     "is_executing": false
    }
   },
   "outputs": [
    {
     "ename": "KeyError",
     "evalue": "'seq'",
     "output_type": "error",
     "traceback": [
      "\u001b[0;31m---------------------------------------------------------------------------\u001b[0m",
      "\u001b[0;31mKeyError\u001b[0m                                  Traceback (most recent call last)",
      "\u001b[0;32m~/anaconda3/envs/pytorch_p36/lib/python3.6/site-packages/pandas/core/indexes/base.py\u001b[0m in \u001b[0;36mget_loc\u001b[0;34m(self, key, method, tolerance)\u001b[0m\n\u001b[1;32m   2645\u001b[0m             \u001b[0;32mtry\u001b[0m\u001b[0;34m:\u001b[0m\u001b[0;34m\u001b[0m\u001b[0;34m\u001b[0m\u001b[0m\n\u001b[0;32m-> 2646\u001b[0;31m                 \u001b[0;32mreturn\u001b[0m \u001b[0mself\u001b[0m\u001b[0;34m.\u001b[0m\u001b[0m_engine\u001b[0m\u001b[0;34m.\u001b[0m\u001b[0mget_loc\u001b[0m\u001b[0;34m(\u001b[0m\u001b[0mkey\u001b[0m\u001b[0;34m)\u001b[0m\u001b[0;34m\u001b[0m\u001b[0;34m\u001b[0m\u001b[0m\n\u001b[0m\u001b[1;32m   2647\u001b[0m             \u001b[0;32mexcept\u001b[0m \u001b[0mKeyError\u001b[0m\u001b[0;34m:\u001b[0m\u001b[0;34m\u001b[0m\u001b[0;34m\u001b[0m\u001b[0m\n",
      "\u001b[0;32mpandas/_libs/index.pyx\u001b[0m in \u001b[0;36mpandas._libs.index.IndexEngine.get_loc\u001b[0;34m()\u001b[0m\n",
      "\u001b[0;32mpandas/_libs/index.pyx\u001b[0m in \u001b[0;36mpandas._libs.index.IndexEngine.get_loc\u001b[0;34m()\u001b[0m\n",
      "\u001b[0;32mpandas/_libs/hashtable_class_helper.pxi\u001b[0m in \u001b[0;36mpandas._libs.hashtable.PyObjectHashTable.get_item\u001b[0;34m()\u001b[0m\n",
      "\u001b[0;32mpandas/_libs/hashtable_class_helper.pxi\u001b[0m in \u001b[0;36mpandas._libs.hashtable.PyObjectHashTable.get_item\u001b[0;34m()\u001b[0m\n",
      "\u001b[0;31mKeyError\u001b[0m: 'seq'",
      "\nDuring handling of the above exception, another exception occurred:\n",
      "\u001b[0;31mKeyError\u001b[0m                                  Traceback (most recent call last)",
      "\u001b[0;32m<ipython-input-10-543526f706ee>\u001b[0m in \u001b[0;36m<module>\u001b[0;34m\u001b[0m\n\u001b[1;32m      1\u001b[0m \u001b[0;31m# Human test data\u001b[0m\u001b[0;34m\u001b[0m\u001b[0;34m\u001b[0m\u001b[0;34m\u001b[0m\u001b[0m\n\u001b[1;32m      2\u001b[0m \u001b[0mtest_data\u001b[0m \u001b[0;34m=\u001b[0m \u001b[0mpkl\u001b[0m\u001b[0;34m.\u001b[0m\u001b[0mload\u001b[0m\u001b[0;34m(\u001b[0m\u001b[0mopen\u001b[0m\u001b[0;34m(\u001b[0m\u001b[0mos\u001b[0m\u001b[0;34m.\u001b[0m\u001b[0mpath\u001b[0m\u001b[0;34m.\u001b[0m\u001b[0mjoin\u001b[0m\u001b[0;34m(\u001b[0m\u001b[0mdatapath\u001b[0m\u001b[0;34m,\u001b[0m\u001b[0;34m'Human_test_seq_full_length.csv.gz'\u001b[0m\u001b[0;34m)\u001b[0m\u001b[0;34m,\u001b[0m \u001b[0;34m'rb'\u001b[0m\u001b[0;34m)\u001b[0m\u001b[0;34m)\u001b[0m\u001b[0;34m\u001b[0m\u001b[0;34m\u001b[0m\u001b[0m\n\u001b[0;32m----> 3\u001b[0;31m \u001b[0mtest_x\u001b[0m \u001b[0;34m=\u001b[0m \u001b[0mOAS_data_loader\u001b[0m\u001b[0;34m.\u001b[0m\u001b[0mencode_index\u001b[0m\u001b[0;34m(\u001b[0m\u001b[0mdata\u001b[0m\u001b[0;34m=\u001b[0m\u001b[0mtest_data\u001b[0m\u001b[0;34m[\u001b[0m\u001b[0;34m'seq'\u001b[0m\u001b[0;34m]\u001b[0m\u001b[0;34m.\u001b[0m\u001b[0mvalues\u001b[0m\u001b[0;34m)\u001b[0m\u001b[0;34m\u001b[0m\u001b[0;34m\u001b[0m\u001b[0m\n\u001b[0m\u001b[1;32m      4\u001b[0m \u001b[0mhuman_test_loader\u001b[0m \u001b[0;34m=\u001b[0m \u001b[0mtorch\u001b[0m\u001b[0;34m.\u001b[0m\u001b[0mutils\u001b[0m\u001b[0;34m.\u001b[0m\u001b[0mdata\u001b[0m\u001b[0;34m.\u001b[0m\u001b[0mDataLoader\u001b[0m\u001b[0;34m(\u001b[0m\u001b[0mtest_x\u001b[0m\u001b[0;34m,\u001b[0m \u001b[0mcollate_fn\u001b[0m\u001b[0;34m=\u001b[0m\u001b[0mcollate_fn\u001b[0m\u001b[0;34m)\u001b[0m\u001b[0;34m\u001b[0m\u001b[0;34m\u001b[0m\u001b[0m\n\u001b[1;32m      5\u001b[0m \u001b[0;34m\u001b[0m\u001b[0m\n",
      "\u001b[0;32m~/anaconda3/envs/pytorch_p36/lib/python3.6/site-packages/pandas/core/frame.py\u001b[0m in \u001b[0;36m__getitem__\u001b[0;34m(self, key)\u001b[0m\n\u001b[1;32m   2798\u001b[0m             \u001b[0;32mif\u001b[0m \u001b[0mself\u001b[0m\u001b[0;34m.\u001b[0m\u001b[0mcolumns\u001b[0m\u001b[0;34m.\u001b[0m\u001b[0mnlevels\u001b[0m \u001b[0;34m>\u001b[0m \u001b[0;36m1\u001b[0m\u001b[0;34m:\u001b[0m\u001b[0;34m\u001b[0m\u001b[0;34m\u001b[0m\u001b[0m\n\u001b[1;32m   2799\u001b[0m                 \u001b[0;32mreturn\u001b[0m \u001b[0mself\u001b[0m\u001b[0;34m.\u001b[0m\u001b[0m_getitem_multilevel\u001b[0m\u001b[0;34m(\u001b[0m\u001b[0mkey\u001b[0m\u001b[0;34m)\u001b[0m\u001b[0;34m\u001b[0m\u001b[0;34m\u001b[0m\u001b[0m\n\u001b[0;32m-> 2800\u001b[0;31m             \u001b[0mindexer\u001b[0m \u001b[0;34m=\u001b[0m \u001b[0mself\u001b[0m\u001b[0;34m.\u001b[0m\u001b[0mcolumns\u001b[0m\u001b[0;34m.\u001b[0m\u001b[0mget_loc\u001b[0m\u001b[0;34m(\u001b[0m\u001b[0mkey\u001b[0m\u001b[0;34m)\u001b[0m\u001b[0;34m\u001b[0m\u001b[0;34m\u001b[0m\u001b[0m\n\u001b[0m\u001b[1;32m   2801\u001b[0m             \u001b[0;32mif\u001b[0m \u001b[0mis_integer\u001b[0m\u001b[0;34m(\u001b[0m\u001b[0mindexer\u001b[0m\u001b[0;34m)\u001b[0m\u001b[0;34m:\u001b[0m\u001b[0;34m\u001b[0m\u001b[0;34m\u001b[0m\u001b[0m\n\u001b[1;32m   2802\u001b[0m                 \u001b[0mindexer\u001b[0m \u001b[0;34m=\u001b[0m \u001b[0;34m[\u001b[0m\u001b[0mindexer\u001b[0m\u001b[0;34m]\u001b[0m\u001b[0;34m\u001b[0m\u001b[0;34m\u001b[0m\u001b[0m\n",
      "\u001b[0;32m~/anaconda3/envs/pytorch_p36/lib/python3.6/site-packages/pandas/core/indexes/base.py\u001b[0m in \u001b[0;36mget_loc\u001b[0;34m(self, key, method, tolerance)\u001b[0m\n\u001b[1;32m   2646\u001b[0m                 \u001b[0;32mreturn\u001b[0m \u001b[0mself\u001b[0m\u001b[0;34m.\u001b[0m\u001b[0m_engine\u001b[0m\u001b[0;34m.\u001b[0m\u001b[0mget_loc\u001b[0m\u001b[0;34m(\u001b[0m\u001b[0mkey\u001b[0m\u001b[0;34m)\u001b[0m\u001b[0;34m\u001b[0m\u001b[0;34m\u001b[0m\u001b[0m\n\u001b[1;32m   2647\u001b[0m             \u001b[0;32mexcept\u001b[0m \u001b[0mKeyError\u001b[0m\u001b[0;34m:\u001b[0m\u001b[0;34m\u001b[0m\u001b[0;34m\u001b[0m\u001b[0m\n\u001b[0;32m-> 2648\u001b[0;31m                 \u001b[0;32mreturn\u001b[0m \u001b[0mself\u001b[0m\u001b[0;34m.\u001b[0m\u001b[0m_engine\u001b[0m\u001b[0;34m.\u001b[0m\u001b[0mget_loc\u001b[0m\u001b[0;34m(\u001b[0m\u001b[0mself\u001b[0m\u001b[0;34m.\u001b[0m\u001b[0m_maybe_cast_indexer\u001b[0m\u001b[0;34m(\u001b[0m\u001b[0mkey\u001b[0m\u001b[0;34m)\u001b[0m\u001b[0;34m)\u001b[0m\u001b[0;34m\u001b[0m\u001b[0;34m\u001b[0m\u001b[0m\n\u001b[0m\u001b[1;32m   2649\u001b[0m         \u001b[0mindexer\u001b[0m \u001b[0;34m=\u001b[0m \u001b[0mself\u001b[0m\u001b[0;34m.\u001b[0m\u001b[0mget_indexer\u001b[0m\u001b[0;34m(\u001b[0m\u001b[0;34m[\u001b[0m\u001b[0mkey\u001b[0m\u001b[0;34m]\u001b[0m\u001b[0;34m,\u001b[0m \u001b[0mmethod\u001b[0m\u001b[0;34m=\u001b[0m\u001b[0mmethod\u001b[0m\u001b[0;34m,\u001b[0m \u001b[0mtolerance\u001b[0m\u001b[0;34m=\u001b[0m\u001b[0mtolerance\u001b[0m\u001b[0;34m)\u001b[0m\u001b[0;34m\u001b[0m\u001b[0;34m\u001b[0m\u001b[0m\n\u001b[1;32m   2650\u001b[0m         \u001b[0;32mif\u001b[0m \u001b[0mindexer\u001b[0m\u001b[0;34m.\u001b[0m\u001b[0mndim\u001b[0m \u001b[0;34m>\u001b[0m \u001b[0;36m1\u001b[0m \u001b[0;32mor\u001b[0m \u001b[0mindexer\u001b[0m\u001b[0;34m.\u001b[0m\u001b[0msize\u001b[0m \u001b[0;34m>\u001b[0m \u001b[0;36m1\u001b[0m\u001b[0;34m:\u001b[0m\u001b[0;34m\u001b[0m\u001b[0;34m\u001b[0m\u001b[0m\n",
      "\u001b[0;32mpandas/_libs/index.pyx\u001b[0m in \u001b[0;36mpandas._libs.index.IndexEngine.get_loc\u001b[0;34m()\u001b[0m\n",
      "\u001b[0;32mpandas/_libs/index.pyx\u001b[0m in \u001b[0;36mpandas._libs.index.IndexEngine.get_loc\u001b[0;34m()\u001b[0m\n",
      "\u001b[0;32mpandas/_libs/hashtable_class_helper.pxi\u001b[0m in \u001b[0;36mpandas._libs.hashtable.PyObjectHashTable.get_item\u001b[0;34m()\u001b[0m\n",
      "\u001b[0;32mpandas/_libs/hashtable_class_helper.pxi\u001b[0m in \u001b[0;36mpandas._libs.hashtable.PyObjectHashTable.get_item\u001b[0;34m()\u001b[0m\n",
      "\u001b[0;31mKeyError\u001b[0m: 'seq'"
     ]
    }
   ],
   "source": [
    "# Human test data\n",
    "test_data = pkl.load(open(os.path.join(datapath,'Human_test_seq_full_length.csv.gz'), 'rb'))\n",
    "test_x = OAS_data_loader.encode_index(data=test_data['seq'].values)\n",
    "human_test_loader = torch.utils.data.DataLoader(test_x, collate_fn=collate_fn)\n",
    "\n",
    "# Rabbit test data\n",
    "test_data = pkl.load(open(os.path.join(datapath,'Rabbit_test_seq_full_length.csv.gz'), 'rb'))\n",
    "test_x = OAS_data_loader.encode_index(data=test_data['seq'].values)\n",
    "rabbit_test_loader = torch.utils.data.DataLoader(test_x, collate_fn=collate_fn)\n",
    "\n",
    "# Mouse test data\n",
    "test_data = pkl.load(open(os.path.join(datapath,'Mouse_test_seq_full_length.csv.gz'), 'rb'))\n",
    "test_x = OAS_data_loader.encode_index(data=test_data['seq'].values)\n",
    "mouse_test_loader = torch.utils.data.DataLoader(test_x, collate_fn=collate_fn)\n",
    "\n",
    "# Rhesus test data\n",
    "test_data = pkl.load(open(os.path.join(datapath,'Rhesus_test_seq_full_length.csv.gz'), 'rb'))\n",
    "test_x = OAS_data_loader.encode_index(data=test_data['seq'].values)\n",
    "rhesus_test_loader = torch.utils.data.DataLoader(test_x, collate_fn=collate_fn)"
   ]
  },
  {
   "cell_type": "markdown",
   "metadata": {},
   "source": [
    "# Train & Test"
   ]
  },
  {
   "cell_type": "code",
   "execution_count": null,
   "metadata": {
    "execution": {
     "iopub.execute_input": "2020-03-11T00:25:54.277Z",
     "iopub.status.busy": "2020-03-11T00:25:54.272Z",
     "iopub.status.idle": "2020-03-11T00:33:52.351Z",
     "shell.execute_reply": "2020-03-11T00:33:52.367Z"
    },
    "pycharm": {
     "is_executing": true
    }
   },
   "outputs": [],
   "source": [
    "# import sagemaker\n",
    "\n",
    "# labeling\n",
    "# role = sagemaker.get_execution_role()\n",
    "model = Bi_LSTM.LSTM_Bi(para_dict)\n",
    "model.fit(train_loader)\n",
    "output_human_train = model.predict(train_loader)"
   ]
  },
  {
   "cell_type": "code",
   "execution_count": 9,
   "metadata": {},
   "outputs": [
    {
     "data": {
      "text/plain": [
       "array([0.84582775, 1.24205501, 0.39678971, 0.74773982, 0.65454253,\n",
       "       0.63991126, 0.54997615, 0.98607044, 0.47786674, 0.80321374,\n",
       "       0.86212894, 0.76566282, 0.73376608, 0.37239635, 0.47130942,\n",
       "       0.63903548, 0.65625808, 0.62880978, 1.20570134, 0.54527572,\n",
       "       0.37239635, 0.30885449, 0.66469464, 0.84230634, 1.00048389,\n",
       "       0.58257478, 0.66668702, 0.55106051, 1.02804318, 0.73230682,\n",
       "       0.73947171, 0.70972195, 0.52299546, 1.03659278, 0.34773738,\n",
       "       0.59435566, 0.57589016, 0.549156  , 0.51011231, 0.88111426,\n",
       "       0.90245896, 0.49554311, 0.3683384 , 0.57589016, 0.46683016,\n",
       "       0.71299301, 0.67339617, 1.15250802, 0.45569505, 0.37239635,\n",
       "       0.48057578, 0.67054936, 0.52898023, 0.53807464, 0.48526446,\n",
       "       0.46414264, 0.96781418, 0.67841316, 0.70076936, 1.2883675 ,\n",
       "       1.01824796, 0.70961093, 0.87468957, 0.80116353, 0.5324697 ,\n",
       "       0.72540295, 0.70711787, 0.42515396, 0.47097761, 0.99783455,\n",
       "       0.59954442, 1.88060199, 0.59123893, 0.51722469, 0.71501545,\n",
       "       0.49495228, 0.61697594, 0.62340648, 0.78638789, 0.73205694,\n",
       "       0.8121428 , 0.22173093, 0.63349705, 0.90677863, 0.92731317,\n",
       "       0.72887357, 0.89729284, 0.35160567, 0.55251976, 0.77072286,\n",
       "       0.37730801, 0.42916433, 0.60208571, 0.63113229, 0.78930909,\n",
       "       1.30829583, 0.61112539, 0.32484695, 0.38514979, 0.69704517])"
      ]
     },
     "execution_count": 9,
     "metadata": {},
     "output_type": "execute_result"
    }
   ],
   "source": [
    "output_human_train"
   ]
  },
  {
   "cell_type": "markdown",
   "metadata": {},
   "source": [
    "# ROC curve"
   ]
  },
  {
   "cell_type": "code",
   "execution_count": null,
   "metadata": {
    "execution": {
     "iopub.execute_input": "2020-03-11T00:53:08.093Z",
     "iopub.status.busy": "2020-03-11T00:53:08.088Z",
     "iopub.status.idle": "2020-03-11T00:54:17.588Z",
     "shell.execute_reply": "2020-03-11T00:54:17.604Z"
    },
    "pycharm": {
     "is_executing": false
    }
   },
   "outputs": [],
   "source": [
    "output_human = model.predict(human_test_loader)\n",
    "plt.figure(figsize=(10,6))\n",
    "\n",
    "# Mouse species roc curve\n",
    "output_mouse = model.predict(mouse_test_loader)\n",
    "label = [-1 if a < 1000 else 1 for a in range(2000)]\n",
    "output = np.concatenate((output_human, output_mouse), axis=0)\n",
    "mouse_fpr, mouse_tpr, _ = roc_curve(np.array(label), np.array(output))\n",
    "AUC_score_mouse = roc_auc_score(np.array(label), np.array(output))\n",
    "print('AUC score for mouse: ', AUC_score_mouse)\n",
    "plt.plot(mouse_fpr, mouse_tpr, 'r', label='mouse(AUC=' + str(AUC_score_mouse) + ')')\n",
    "\n",
    "# Rabbit species roc curve\n",
    "output_rabbit = model.predict(rabbit_test_loader)\n",
    "label = [-1 if a < 1000 else 1 for a in range(2000)]\n",
    "output = np.concatenate((output_human, output_rabbit), axis=0)\n",
    "rabbit_fpr, rabbit_tpr, _ = roc_curve(np.array(label), np.array(output))\n",
    "AUC_score_rabbit = roc_auc_score(np.array(label), np.array(output))\n",
    "print('AUC score for rabbit ', AUC_score_rabbit)\n",
    "plt.plot(rabbit_fpr, rabbit_tpr, 'g', label='rabbit(AUC=' + str(AUC_score_rabbit) + ')')\n",
    "\n",
    "# Rhesus species roc curve\n",
    "output_rhesus = model.predict(rhesus_test_loader)\n",
    "label = [-1 if a < 1000 else 1 for a in range(2000)]\n",
    "output = np.concatenate((output_human, output_rhesus), axis=0)\n",
    "rhesus_fpr, rhesus_tpr, _ = roc_curve(np.array(label), np.array(output))\n",
    "AUC_score_rhesus = roc_auc_score(np.array(label), np.array(output))\n",
    "print('AUC score for rhesus ', AUC_score_rhesus)\n",
    "plt.plot(rhesus_fpr, rhesus_tpr, 'b', label='rhesus(AUC=' + str(AUC_score_rhesus) + ')')\n",
    "\n",
    "plt.xlabel('False positive rate')\n",
    "plt.ylabel('True positive rate')\n",
    "plt.legend()"
   ]
  },
  {
   "cell_type": "markdown",
   "metadata": {},
   "source": [
    "Check out Figure 2(b) for the comparison"
   ]
  },
  {
   "cell_type": "markdown",
   "metadata": {},
   "source": [
    "# Histogram plot"
   ]
  },
  {
   "cell_type": "code",
   "execution_count": null,
   "metadata": {
    "execution": {
     "iopub.execute_input": "2020-03-11T00:54:17.601Z",
     "iopub.status.busy": "2020-03-11T00:54:17.597Z",
     "iopub.status.idle": "2020-03-11T00:54:17.765Z",
     "shell.execute_reply": "2020-03-11T00:54:17.772Z"
    },
    "pycharm": {
     "is_executing": false
    }
   },
   "outputs": [],
   "source": [
    "# Score Distribution\n",
    "\n",
    "plt.figure(figsize=(12,8))\n",
    "plt.hist(output_human_train, histtype='step', normed=True, color='red', label='Human_train')\n",
    "plt.hist(output_human, histtype='step', normed=True, color='orange', label='Human_test')\n",
    "plt.hist(output_rabbit, histtype='step', normed=True, color='blue', label='Rabbit')\n",
    "plt.hist(output_mouse, histtype='step', normed=True, color='green', label='Mouse')\n",
    "plt.hist(output_rhesus, histtype='step', normed=True, color='pink', label='Rhesus')\n",
    "plt.legend()\n",
    "plt.show()"
   ]
  },
  {
   "cell_type": "markdown",
   "metadata": {},
   "source": [
    "Check out Figure 2(a) for the comparison"
   ]
  },
  {
   "cell_type": "code",
   "execution_count": null,
   "metadata": {
    "pycharm": {
     "is_executing": false
    }
   },
   "outputs": [],
   "source": []
  }
 ],
 "metadata": {
  "kernel_info": {
   "name": "python3"
  },
  "kernelspec": {
   "display_name": "conda_pytorch_p36",
   "language": "python",
   "name": "conda_pytorch_p36"
  },
  "language_info": {
   "codemirror_mode": {
    "name": "ipython",
    "version": 3
   },
   "file_extension": ".py",
   "mimetype": "text/x-python",
   "name": "python",
   "nbconvert_exporter": "python",
   "pygments_lexer": "ipython3",
   "version": "3.6.10"
  },
  "nteract": {
   "version": "0.22.0"
  },
  "pycharm": {
   "stem_cell": {
    "cell_type": "raw",
    "metadata": {
     "collapsed": false
    },
    "source": []
   }
  }
 },
 "nbformat": 4,
 "nbformat_minor": 4
}
