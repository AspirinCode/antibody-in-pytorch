{
 "cells": [
  {
   "cell_type": "code",
   "execution_count": 17,
   "metadata": {
    "pycharm": {
     "is_executing": false
    }
   },
   "outputs": [],
   "source": [
    "import seaborn as sns\n",
    "import pandas as pd\n",
    "import glob\n",
    "import matplotlib.pyplot as plt\n",
    "import os\n",
    "\n",
    "out_dir = os.path.join('figures', 'cdr3_length')"
   ]
  },
  {
   "cell_type": "code",
   "execution_count": 4,
   "metadata": {
    "collapsed": false,
    "jupyter": {
     "outputs_hidden": false
    },
    "pycharm": {
     "is_executing": false,
     "name": "#%%\n"
    }
   },
   "outputs": [
    {
     "name": "stdout",
     "output_type": "stream",
     "text": [
      "data/seq_db/Briney_2019_Subject_326651_IgM_Subject-326651_Replicate-11_Isotype-IgM.txt\n",
      "data/seq_db/Gidoni_2019_Light_Healthy-celiac-disease_Bulk_Heavy_Healthy-celiac-disease_S61_Naive-B-Cells_igblastn_Bulk.txt\n",
      "data/seq_db/Gidoni_2019_Light_Healthy-celiac-disease_Bulk_Heavy_Healthy-celiac-disease_S76_Naive-B-Cells_igblastn_Bulk.txt\n",
      "data/seq_db/Greiff_2017_NP-HEL_mouse_1_PC_IGHM_IGHG_IGHM_NP-HEL_mouse_1_ERX1825950_long_lived_plasma_cell_bone_marrow_iglblastn_IGHM.txt\n",
      "data/seq_db/Briney_2019_Subject_326651_IgG_Subject-326651_Replicate-17_Isotype-IgG.txt\n",
      "data/seq_db/Eliyahu_2018_Heavy_HCV_IGM_IGHM_HCV_SC7_IGM_igblastn_IGHM.txt\n",
      "data/seq_db/Gidoni_2019_Light_Healthy-celiac-disease_Bulk_Heavy_Healthy-celiac-disease_S39_Naive-B-Cells_igblastn_Bulk.txt\n",
      "data/seq_db/Gidoni_2019_Light_Healthy-celiac-disease_Bulk_Heavy_Healthy-celiac-disease_S4_Naive-B-Cells_igblastn_Bulk.txt\n",
      "data/seq_db/Greiff_2017_NP-HEL_mouse_1_pre-B_cell_bone_marrow_IGHM_NP-HEL_mouse_1_ERX1825951_pre-B_cell_bone_marrow_igblastn.txt\n",
      "data/seq_db/Briney_2019_Subject_326713_IgM_Subject-326713_Replicate-5_Isotype-IgM.txt\n",
      "data/seq_db/Doria-Rose_2015_Heavy_Week59_IGHG_CAP256-Week59-Heavy_iglblastn_IGHG.txt\n",
      "data/seq_db/Briney_2019_Subject_327059_IgG_Subject-327059_Replicate-15_Isotype-IgG.txt\n",
      "data/seq_db/Vander_Heiden_2017_Light_AR04_AR04_Memory_Bcells_age13_ACh_disease-1year_stageI_iglblastn.txt\n",
      "data/seq_db/Briney_2019_Subject_326780_IgM_Subject-326780_Replicate-2_Isotype-IgM.txt\n",
      "data/seq_db/Greiff_2017_OVA_mouse_5_naive_B_cell_IGHM_OVA_mouse_5_ERX1826020_naive_B_cell_spleen_igblastn.txt\n",
      "data/seq_db/Gidoni_2019_Light_Healthy-celiac-disease_Bulk_Heavy_Healthy-celiac-disease_S9_Naive-B-Cells_igblastn_Bulk.txt\n"
     ]
    }
   ],
   "source": [
    "data_files = glob.glob('data/seq_db/*.txt')\n",
    "\n",
    "length_dfs = []\n",
    "\n",
    "for data_file in data_files:\n",
    "    df = pd.read_csv(data_file, sep='\\t')\n",
    "    try:\n",
    "        length_df = df.apply(lambda row: len(row['CDR3_aa']), axis=1)\n",
    "    except TypeError:\n",
    "        print(data_file)\n",
    "    length_dfs.append(length_df)\n",
    "\n",
    "cdr3_lengths = pd.concat(length_dfs)\n",
    "\n",
    "    "
   ]
  },
  {
   "cell_type": "code",
   "execution_count": 13,
   "metadata": {
    "collapsed": false,
    "jupyter": {
     "outputs_hidden": false
    },
    "pycharm": {
     "is_executing": false,
     "name": "#%%\n"
    }
   },
   "outputs": [
    {
     "name": "stdout",
     "output_type": "stream",
     "text": [
      "1 37\n"
     ]
    },
    {
     "data": {
      "image/png": "[encoded data removed]",
      "text/plain": [
       "<Figure size 432x288 with 1 Axes>"
      ]
     },
     "metadata": {
      "needs_background": "light"
     },
     "output_type": "display_data"
    }
   ],
   "source": [
    "len_min = cdr3_lengths.min()\n",
    "len_max = cdr3_lengths.max()\n",
    "print(len_min, len_max)\n",
    "bins = range(len_min, len_max+2) # last bin is half-open: https://matplotlib.org/api/_as_gen/matplotlib.axes.Axes.hist.html#matplotlib.axes.Axes.hist\n",
    "cdr3_len_hist = sns.distplot(cdr3_lengths, bins=bins, kde=False)\n",
    "cdr3_len_hist.set(title=\"CDR3 Length Distribution\", ylabel=\"Frequency (Millions)\", xlabel=\"CDR3 Length\")\n",
    "cdr3_len_hist.figure.savefig('figures/cdr3_length/cdr3_len_hist.png',dpi=600)\n",
    "plt.show()"
   ]
  },
  {
   "cell_type": "code",
   "execution_count": 11,
   "metadata": {
    "collapsed": false,
    "jupyter": {
     "outputs_hidden": false
    },
    "pycharm": {
     "is_executing": false,
     "name": "#%%\n"
    }
   },
   "outputs": [],
   "source": [
    "counts = cdr3_lengths.value_counts()\n",
    "counts.to_csv(os.path.join(out_dir, 'cdr3_len_counts.csv'))\n",
    "counts"
   ]
  },
  {
   "cell_type": "code",
   "execution_count": 18,
   "metadata": {
    "collapsed": false,
    "jupyter": {
     "outputs_hidden": false
    },
    "pycharm": {
     "name": "#%%\n"
    }
   },
   "outputs": [],
   "source": [
    "summary = cdr3_lengths.describe()\n",
    "summary.to_csv(os.path.join(out_dir, 'summary_stats.csv'))"
   ]
  }
 ],
 "metadata": {
  "kernelspec": {
   "display_name": "conda_pytorch_p36",
   "language": "python",
   "name": "conda_pytorch_p36"
  },
  "language_info": {
   "codemirror_mode": {
    "name": "ipython",
    "version": 3
   },
   "file_extension": ".py",
   "mimetype": "text/x-python",
   "name": "python",
   "nbconvert_exporter": "python",
   "pygments_lexer": "ipython3",
   "version": "3.6.10"
  },
  "pycharm": {
   "stem_cell": {
    "cell_type": "raw",
    "metadata": {
     "collapsed": false
    },
    "source": []
   }
  }
 },
 "nbformat": 4,
 "nbformat_minor": 4
}
