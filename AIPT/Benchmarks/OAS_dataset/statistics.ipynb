{
 "cells": [
  {
   "cell_type": "code",
   "execution_count": 11,
   "metadata": {
    "collapsed": true,
    "pycharm": {
     "is_executing": false
    }
   },
   "outputs": [],
   "source": [
    "\n",
    "import seaborn as sns\n",
    "import pandas as pd\n",
    "import glob\n",
    "import matplotlib.pyplot as plt"
   ]
  },
  {
   "cell_type": "code",
   "execution_count": 17,
   "outputs": [
    {
     "name": "stdout",
     "text": [
      "data/seq_db/Doria-Rose_2015_Heavy_Week59_IGHG_CAP256-Week59-Heavy_iglblastn_IGHG.txt\n",
      "data/seq_db/Gidoni_2019_Light_Healthy-celiac-disease_Bulk_Heavy_Healthy-celiac-disease_S9_Naive-B-Cells_igblastn_Bulk.txt\n",
      "data/seq_db/Gidoni_2019_Light_Healthy-celiac-disease_Bulk_Heavy_Healthy-celiac-disease_S76_Naive-B-Cells_igblastn_Bulk.txt\n",
      "data/seq_db/Gidoni_2019_Light_Healthy-celiac-disease_Bulk_Heavy_Healthy-celiac-disease_S61_Naive-B-Cells_igblastn_Bulk.txt\n",
      "data/seq_db/Vander_Heiden_2017_Light_AR04_AR04_Memory_Bcells_age13_ACh_disease-1year_stageI_iglblastn.txt\n",
      "data/seq_db/Eliyahu_2018_Heavy_HCV_IGM_IGHM_HCV_SC7_IGM_igblastn_IGHM.txt\n",
      "data/seq_db/Gidoni_2019_Light_Healthy-celiac-disease_Bulk_Heavy_Healthy-celiac-disease_S4_Naive-B-Cells_igblastn_Bulk.txt\n",
      "data/seq_db/Briney_2019_Subject_327059_IgG_Subject-327059_Replicate-15_Isotype-IgG.txt\n",
      "data/seq_db/Briney_2019_Subject_326780_IgM_Subject-326780_Replicate-2_Isotype-IgM.txt\n",
      "data/seq_db/Briney_2019_Subject_326651_IgM_Subject-326651_Replicate-11_Isotype-IgM.txt\n",
      "data/seq_db/Greiff_2017_NP-HEL_mouse_1_pre-B_cell_bone_marrow_IGHM_NP-HEL_mouse_1_ERX1825951_pre-B_cell_bone_marrow_igblastn.txt\n",
      "data/seq_db/Gidoni_2019_Light_Healthy-celiac-disease_Bulk_Heavy_Healthy-celiac-disease_S39_Naive-B-Cells_igblastn_Bulk.txt\n",
      "data/seq_db/Briney_2019_Subject_326651_IgG_Subject-326651_Replicate-17_Isotype-IgG.txt\n",
      "data/seq_db/Greiff_2017_NP-HEL_mouse_1_PC_IGHM_IGHG_IGHM_NP-HEL_mouse_1_ERX1825950_long_lived_plasma_cell_bone_marrow_iglblastn_IGHM.txt\n",
      "data/seq_db/Briney_2019_Subject_326713_IgM_Subject-326713_Replicate-5_Isotype-IgM.txt\n",
      "data/seq_db/Greiff_2017_OVA_mouse_5_naive_B_cell_IGHM_OVA_mouse_5_ERX1826020_naive_B_cell_spleen_igblastn.txt\n"
     ],
     "output_type": "stream"
    }
   ],
   "source": [
    "data_files = glob.glob('data/seq_db/*.txt')\n",
    "\n",
    "length_dfs = []\n",
    "\n",
    "for data_file in data_files:\n",
    "    df = pd.read_csv(data_file, sep='\\t')\n",
    "    try:\n",
    "        length_df = df.apply(lambda row: len(row['CDR3_aa']), axis=1)\n",
    "    except TypeError:\n",
    "        print(data_file)\n",
    "    length_dfs.append(length_df)\n",
    "\n",
    "cdr3_lengths = pd.concat(length_dfs)\n",
    "\n",
    "    "
   ],
   "metadata": {
    "collapsed": false,
    "pycharm": {
     "name": "#%%\n",
     "is_executing": false
    }
   }
  },
  {
   "cell_type": "code",
   "execution_count": null,
   "outputs": [],
   "source": [
    "sns.displot(cdr3_lengths)\n",
    "plt.show()"
   ],
   "metadata": {
    "collapsed": false,
    "pycharm": {
     "name": "#%%\n",
     "is_executing": false
    }
   }
  },
  {
   "cell_type": "code",
   "execution_count": 10,
   "outputs": [],
   "source": [],
   "metadata": {
    "collapsed": false,
    "pycharm": {
     "name": "#%%\n",
     "is_executing": false
    }
   }
  },
  {
   "cell_type": "code",
   "execution_count": null,
   "outputs": [],
   "source": [
    "\n"
   ],
   "metadata": {
    "collapsed": false,
    "pycharm": {
     "name": "#%%\n"
    }
   }
  }
 ],
 "metadata": {
  "kernelspec": {
   "display_name": "Python 3",
   "language": "python",
   "name": "python3"
  },
  "language_info": {
   "codemirror_mode": {
    "name": "ipython",
    "version": 2
   },
   "file_extension": ".py",
   "mimetype": "text/x-python",
   "name": "python",
   "nbconvert_exporter": "python",
   "pygments_lexer": "ipython2",
   "version": "2.7.6"
  },
  "pycharm": {
   "stem_cell": {
    "cell_type": "raw",
    "source": [],
    "metadata": {
     "collapsed": false
    }
   }
  }
 },
 "nbformat": 4,
 "nbformat_minor": 0
}